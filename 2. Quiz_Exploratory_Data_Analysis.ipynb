{
 "cells": [
  {
   "cell_type": "markdown",
   "metadata": {},
   "source": [
    "# Quiz: Exploratory Data Analysis"
   ]
  },
  {
   "cell_type": "markdown",
   "metadata": {},
   "source": [
    "Read `online_bl.csv` from  `data_input` folder to answer **question 1-3**. You may find it helpful to use `parse_dates=[__]` while calling the `read_csv()` function. The data are all items listed for sale on the popular e-commerce website bukalapak.com within a specific set of categories. \n",
    "\n",
    "\n",
    "Perform  necessary data preparation steps and use the exploratory data analysis techniques you've acquired to answer the questions."
   ]
  },
  {
   "cell_type": "markdown",
   "metadata": {},
   "source": [
    "\n",
    "1. How many unique sub categories are there in `online_bl` dataset? Do we have more \"detergent\" listings or \"sugar\" listings within our data?\n",
    "    - [ ] 2, with more \"detergent\" than \"sugar\"\n",
    "    - [ ] 2, with \"detergent\" and \"sugar\" having equal listings\n",
    "    - [ ] 3, with more \"sugar\" than detergent\n",
    "    - [ ] None of above is correct\n",
    "    \n",
    "2. In which scale do we have our **detergent** stock the most?\n",
    "    - [ ] 1 kg\n",
    "    - [ ] 1.8 kg\n",
    "    - [ ] 5 kg\n",
    "    - [ ] 800 gr\n",
    "\n",
    "3. Which month has the **lowest average price** (`mean` on `price_original`) for detergent products (1.8kg and 800gr respectively) listed for sale on Bukalapak? Are they the same month?\n",
    "    - [ ] Both 1.8 kg and 800 gr detergents lowest price were in August\n",
    "    - [ ] Both 1.8 kg and 800 gr detergents lowest price were in October\n",
    "    - [ ] 1.8 kg detergents: Lowest in August, 800 gr: Lowest in October\n",
    "    - [ ] 1.8 kg detergents: Lowest in August, 800 gr: Lowest in July    \n",
    "        \n"
   ]
  },
  {
   "cell_type": "markdown",
   "metadata": {},
   "source": [
    "Read `techcrunch.csv` from `data_input` folder to aswer **question 4-6**, a dataset that stores fundraising rounds and amounts from startup companies of different categories around the US.\n",
    "\n",
    "4. Using `techcrunch.csv`, which `category` raised the most amount in funding (`raisedAmt`) on average (use the `median`)?\n",
    "    - [ ] `mobile`\n",
    "    - [ ] `cleantech`\n",
    "    - [ ] `biotech`\n",
    "    - [ ] `consulting`\n",
    "\n",
    " \n",
    "5. In which period does Friendster gain their highest raised amount of funding?\n",
    "    - [ ] 2008-08\n",
    "    - [ ] 2002-12\n",
    "    - [ ] 2006-08\n",
    "    - [ ] 2012-01\n",
    "\n",
    "6.  Among all companies in San Francisco, which of the following are **not** among the top 5 most funded ( has highest **total** `raisedAmt`) companies? \n",
    "    - [ ] `OpenTable`\n",
    "    - [ ] `Friendster`\n",
    "    - [ ] `Facebook`\n",
    "    - [ ] `Snapfish`\n",
    "  "
   ]
  }
 ],
 "metadata": {
  "kernelspec": {
   "display_name": "academy",
   "language": "python",
   "name": "academy"
  },
  "language_info": {
   "codemirror_mode": {
    "name": "ipython",
    "version": 3
   },
   "file_extension": ".py",
   "mimetype": "text/x-python",
   "name": "python",
   "nbconvert_exporter": "python",
   "pygments_lexer": "ipython3",
   "version": "3.7.5"
  },
  "latex_envs": {
   "LaTeX_envs_menu_present": true,
   "autoclose": false,
   "autocomplete": true,
   "bibliofile": "biblio.bib",
   "cite_by": "apalike",
   "current_citInitial": 1,
   "eqLabelWithNumbers": true,
   "eqNumInitial": 1,
   "hotkeys": {
    "equation": "Ctrl-E",
    "itemize": "Ctrl-I"
   },
   "labels_anchors": false,
   "latex_user_defs": false,
   "report_style_numbering": false,
   "user_envs_cfg": false
  },
  "toc": {
   "base_numbering": 1,
   "nav_menu": {},
   "number_sections": true,
   "sideBar": true,
   "skip_h1_title": false,
   "title_cell": "Table of Contents",
   "title_sidebar": "Contents",
   "toc_cell": false,
   "toc_position": {},
   "toc_section_display": true,
   "toc_window_display": false
  }
 },
 "nbformat": 4,
 "nbformat_minor": 2
}
